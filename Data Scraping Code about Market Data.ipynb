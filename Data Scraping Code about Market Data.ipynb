{
 "cells": [
  {
   "cell_type": "code",
   "execution_count": 4,
   "metadata": {},
   "outputs": [
    {
     "name": "stdout",
     "output_type": "stream",
     "text": [
      "C:\\Users\\Masahiro Kasahara\\Desktop\\Research\n"
     ]
    }
   ],
   "source": [
    "#ワーキングディレクトリーの設定\n",
    "import os\n",
    "os.chdir('C:/Users/Masahiro Kasahara/Desktop/Research')\n",
    "path = os.getcwd()\n",
    "print(path)"
   ]
  },
  {
   "cell_type": "code",
   "execution_count": 2,
   "metadata": {},
   "outputs": [
    {
     "data": {
      "text/html": [
       "<div>\n",
       "<style scoped>\n",
       "    .dataframe tbody tr th:only-of-type {\n",
       "        vertical-align: middle;\n",
       "    }\n",
       "\n",
       "    .dataframe tbody tr th {\n",
       "        vertical-align: top;\n",
       "    }\n",
       "\n",
       "    .dataframe thead th {\n",
       "        text-align: right;\n",
       "    }\n",
       "</style>\n",
       "<table border=\"1\" class=\"dataframe\">\n",
       "  <thead>\n",
       "    <tr style=\"text-align: right;\">\n",
       "      <th></th>\n",
       "      <th>High</th>\n",
       "      <th>Low</th>\n",
       "      <th>Open</th>\n",
       "      <th>Close</th>\n",
       "      <th>Volume</th>\n",
       "      <th>Adj Close</th>\n",
       "    </tr>\n",
       "    <tr>\n",
       "      <th>Date</th>\n",
       "      <th></th>\n",
       "      <th></th>\n",
       "      <th></th>\n",
       "      <th></th>\n",
       "      <th></th>\n",
       "      <th></th>\n",
       "    </tr>\n",
       "  </thead>\n",
       "  <tbody>\n",
       "    <tr>\n",
       "      <th>1999-12-31</th>\n",
       "      <td>0.918527</td>\n",
       "      <td>0.888393</td>\n",
       "      <td>0.901228</td>\n",
       "      <td>0.917969</td>\n",
       "      <td>163811200.0</td>\n",
       "      <td>0.785456</td>\n",
       "    </tr>\n",
       "    <tr>\n",
       "      <th>2000-01-03</th>\n",
       "      <td>1.004464</td>\n",
       "      <td>0.907924</td>\n",
       "      <td>0.936384</td>\n",
       "      <td>0.999442</td>\n",
       "      <td>535796800.0</td>\n",
       "      <td>0.855168</td>\n",
       "    </tr>\n",
       "    <tr>\n",
       "      <th>2000-01-04</th>\n",
       "      <td>0.987723</td>\n",
       "      <td>0.903460</td>\n",
       "      <td>0.966518</td>\n",
       "      <td>0.915179</td>\n",
       "      <td>512377600.0</td>\n",
       "      <td>0.783068</td>\n",
       "    </tr>\n",
       "    <tr>\n",
       "      <th>2000-01-05</th>\n",
       "      <td>0.987165</td>\n",
       "      <td>0.919643</td>\n",
       "      <td>0.926339</td>\n",
       "      <td>0.928571</td>\n",
       "      <td>778321600.0</td>\n",
       "      <td>0.794528</td>\n",
       "    </tr>\n",
       "    <tr>\n",
       "      <th>2000-01-06</th>\n",
       "      <td>0.955357</td>\n",
       "      <td>0.848214</td>\n",
       "      <td>0.947545</td>\n",
       "      <td>0.848214</td>\n",
       "      <td>767972800.0</td>\n",
       "      <td>0.725771</td>\n",
       "    </tr>\n",
       "  </tbody>\n",
       "</table>\n",
       "</div>"
      ],
      "text/plain": [
       "                High       Low      Open     Close       Volume  Adj Close\n",
       "Date                                                                      \n",
       "1999-12-31  0.918527  0.888393  0.901228  0.917969  163811200.0   0.785456\n",
       "2000-01-03  1.004464  0.907924  0.936384  0.999442  535796800.0   0.855168\n",
       "2000-01-04  0.987723  0.903460  0.966518  0.915179  512377600.0   0.783068\n",
       "2000-01-05  0.987165  0.919643  0.926339  0.928571  778321600.0   0.794528\n",
       "2000-01-06  0.955357  0.848214  0.947545  0.848214  767972800.0   0.725771"
      ]
     },
     "execution_count": 2,
     "metadata": {},
     "output_type": "execute_result"
    }
   ],
   "source": [
    "#yahoo financeからデータをダウンロード\n",
    "import pandas_datareader.data as pdr #データのダウンロードライブラリ\n",
    "df = pdr.DataReader(\"AAPL\",\"yahoo\",\"2000/1/1\")\n",
    "df.head()"
   ]
  },
  {
   "cell_type": "code",
   "execution_count": 5,
   "metadata": {
    "scrolled": true
   },
   "outputs": [
    {
     "name": "stdout",
     "output_type": "stream",
     "text": [
      "Fail APC\n",
      "Fail RTN\n",
      "Fail UTX\n",
      "Fail in ['APC', 'RTN', 'UTX']\n",
      "Complete\n"
     ]
    }
   ],
   "source": [
    "#S&P100の銘柄データセット作成\n",
    "\n",
    "#2015年のS&P100の銘柄リストを作成\n",
    "import pandas as pd\n",
    "import numpy as np\n",
    "import pandas_datareader.data as pdr #データのダウンロードライブラリ\n",
    "\n",
    "file = 'dataset/sp100_component_list/SP100_20150101.csv'\n",
    "sp100 = pd.read_csv(file, header=None)\n",
    "\n",
    "#指定したS&P100のデータセット作成\n",
    "#file = str(sp100[0][0])\n",
    "#print(file)\n",
    "#df = pdr.DataReader(file,\"yahoo\",\"2000/1/1\",\"2020/9/30\")\n",
    "#df.to_csv(str('dataset/'+file+'.csv'))\n",
    "\n",
    "fail_list = []\n",
    "for i in range(100):\n",
    "    try:\n",
    "        name = str(sp100[0][i])\n",
    "        df = pdr.DataReader(name,\"yahoo\",\"2000/1/1\",\"2020/9/30\")\n",
    "        df.to_csv(str('dataset/original/sp100_2015/'+name+'.csv'))\n",
    "    except:\n",
    "        fail_list.append(name)\n",
    "        print(str('Fail '+name))\n",
    "\n",
    "print('Fail in '+str(fail_list))\n",
    "print('Complete')"
   ]
  },
  {
   "cell_type": "code",
   "execution_count": 6,
   "metadata": {},
   "outputs": [],
   "source": [
    "file = \"RTX\"\n",
    "df = pdr.DataReader(file,\"yahoo\",\"2000/1/1\",\"2020/9/30\")\n",
    "df.to_csv(str('dataset/original/sp100_2015/'+file+'.csv'))\n",
    "#APCは合併吸収され現在はSEの子会社となったため取得不可\n",
    "#MCDは手動によりデータセットの作成完了\n",
    "#RTN,UTXは合併によりRTXにシンボルが変更"
   ]
  },
  {
   "cell_type": "code",
   "execution_count": 13,
   "metadata": {},
   "outputs": [],
   "source": [
    "#DTB6,FEDFUNDSデータセット作成\n",
    "import pandas_datareader.data as pdr #データのダウンロードライブラリ\n",
    "\n",
    "#6-month treasury bill\n",
    "df = pdr.DataReader(\"DTB6\",\"fred\",\"2000/1/1\",\"2020/9/30\")\n",
    "df.head()\n",
    "df.to_csv(str('dataset/original/DTB6.csv'))\n",
    "\n",
    "#Effective federal funds rate\n",
    "df = pdr.DataReader(\"DFF\",\"fred\",\"2000/1/1\",\"2020/9/30\")\n",
    "df.head()\n",
    "df.to_csv(str('dataset/original/DFF.csv'))"
   ]
  }
 ],
 "metadata": {
  "kernelspec": {
   "display_name": "Python 3",
   "language": "python",
   "name": "python3"
  },
  "language_info": {
   "codemirror_mode": {
    "name": "ipython",
    "version": 3
   },
   "file_extension": ".py",
   "mimetype": "text/x-python",
   "name": "python",
   "nbconvert_exporter": "python",
   "pygments_lexer": "ipython3",
   "version": "3.8.3"
  }
 },
 "nbformat": 4,
 "nbformat_minor": 4
}
