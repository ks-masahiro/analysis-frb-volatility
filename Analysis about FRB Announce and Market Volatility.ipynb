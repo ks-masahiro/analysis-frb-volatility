{
 "cells": [
  {
   "cell_type": "code",
   "execution_count": 29,
   "metadata": {},
   "outputs": [
    {
     "data": {
      "text/html": [
       "'C:/Users/Masahiro Kasahara/Desktop/Research'"
      ],
      "text/latex": [
       "'C:/Users/Masahiro Kasahara/Desktop/Research'"
      ],
      "text/markdown": [
       "'C:/Users/Masahiro Kasahara/Desktop/Research'"
      ],
      "text/plain": [
       "[1] \"C:/Users/Masahiro Kasahara/Desktop/Research\""
      ]
     },
     "metadata": {},
     "output_type": "display_data"
    }
   ],
   "source": [
    "#ワーキングディレクトリーの設定\n",
    "setwd('C:/Users/Masahiro Kasahara/Desktop/Research')\n",
    "getwd()"
   ]
  },
  {
   "cell_type": "code",
   "execution_count": 32,
   "metadata": {},
   "outputs": [
    {
     "name": "stdout",
     "output_type": "stream",
     "text": [
      "[1] \"Fail in ABBV.csv\"\n",
      "[1] \"Fail in DOW.csv\"\n",
      "[1] \"Fail in EMC.csv\"\n",
      "[1] \"Fail in FB.csv\"\n",
      "[1] \"Fail in FOXA.csv\"\n",
      "[1] \"Fail in GM.csv\"\n",
      "[1] \"Fail in MON.csv\"\n",
      "[1] \"Fail in TWX.csv\"\n"
     ]
    }
   ],
   "source": [
    "#S&P100のデータセットの編集・読み込み\n",
    "\n",
    "#開始日と終了日を指定\n",
    "start <- '2009-12-16' #開始日：形式'2010-01-01'\n",
    "end <- '2020-09-16' #終了日：形式'2010-01-01'\n",
    "\n",
    "#データセットの編集・読み込み\n",
    "files <- dir('dataset/original/sp100_2015/',rec=TRUE)\n",
    "n <- length(files)\n",
    "fail_list <- c()\n",
    "for(i in 1:n){\n",
    "    tryCatch({\n",
    "        name <- files[i]\n",
    "        df <- read.csv(paste('dataset/original/sp100_2015/',name,sep=''))\n",
    "        start_date <- which(df$Date == start) #開始日を指定\n",
    "        end_date <- which(df$Date == end) #終了日を指定\n",
    "        df <- df[start_date:end_date,]\n",
    "        write.csv(df, paste('dataset/sp100_2015/',name,sep=''))},\n",
    "    error = function(e){\n",
    "        fail_list <- c(fail_list,name) #失敗した銘柄リストの作成\n",
    "        print(paste('Fail in ',name,sep=''))} \n",
    "    )\n",
    "}"
   ]
  },
  {
   "cell_type": "code",
   "execution_count": 45,
   "metadata": {
    "scrolled": true
   },
   "outputs": [
    {
     "name": "stdout",
     "output_type": "stream",
     "text": [
      "[1] \"Target\"\n"
     ]
    },
    {
     "data": {
      "text/html": [
       "<table>\n",
       "<caption>A data.frame: 6 × 5</caption>\n",
       "<thead>\n",
       "\t<tr><th></th><th scope=col>date</th><th scope=col>rate_min</th><th scope=col>rate_max</th><th scope=col>rate_discount</th><th scope=col>temporary</th></tr>\n",
       "\t<tr><th></th><th scope=col>&lt;chr&gt;</th><th scope=col>&lt;dbl&gt;</th><th scope=col>&lt;dbl&gt;</th><th scope=col>&lt;dbl&gt;</th><th scope=col>&lt;int&gt;</th></tr>\n",
       "</thead>\n",
       "<tbody>\n",
       "\t<tr><th scope=row>76</th><td>2008/8/5  </td><td>NA</td><td>1.00</td><td>2.25</td><td>0</td></tr>\n",
       "\t<tr><th scope=row>77</th><td>2008/9/16 </td><td>NA</td><td>2.00</td><td>2.25</td><td>0</td></tr>\n",
       "\t<tr><th scope=row>78</th><td>2008/10/8 </td><td>NA</td><td>1.50</td><td>1.75</td><td>1</td></tr>\n",
       "\t<tr><th scope=row>79</th><td>2008/10/29</td><td>NA</td><td>1.00</td><td>1.25</td><td>0</td></tr>\n",
       "\t<tr><th scope=row>80</th><td>2008/12/16</td><td> 0</td><td>0.25</td><td>0.50</td><td>0</td></tr>\n",
       "\t<tr><th scope=row>81</th><td>2009/1/28 </td><td> 0</td><td>0.25</td><td>0.50</td><td>0</td></tr>\n",
       "</tbody>\n",
       "</table>\n"
      ],
      "text/latex": [
       "A data.frame: 6 × 5\n",
       "\\begin{tabular}{r|lllll}\n",
       "  & date & rate\\_min & rate\\_max & rate\\_discount & temporary\\\\\n",
       "  & <chr> & <dbl> & <dbl> & <dbl> & <int>\\\\\n",
       "\\hline\n",
       "\t76 & 2008/8/5   & NA & 1.00 & 2.25 & 0\\\\\n",
       "\t77 & 2008/9/16  & NA & 2.00 & 2.25 & 0\\\\\n",
       "\t78 & 2008/10/8  & NA & 1.50 & 1.75 & 1\\\\\n",
       "\t79 & 2008/10/29 & NA & 1.00 & 1.25 & 0\\\\\n",
       "\t80 & 2008/12/16 &  0 & 0.25 & 0.50 & 0\\\\\n",
       "\t81 & 2009/1/28  &  0 & 0.25 & 0.50 & 0\\\\\n",
       "\\end{tabular}\n"
      ],
      "text/markdown": [
       "\n",
       "A data.frame: 6 × 5\n",
       "\n",
       "| <!--/--> | date &lt;chr&gt; | rate_min &lt;dbl&gt; | rate_max &lt;dbl&gt; | rate_discount &lt;dbl&gt; | temporary &lt;int&gt; |\n",
       "|---|---|---|---|---|---|\n",
       "| 76 | 2008/8/5   | NA | 1.00 | 2.25 | 0 |\n",
       "| 77 | 2008/9/16  | NA | 2.00 | 2.25 | 0 |\n",
       "| 78 | 2008/10/8  | NA | 1.50 | 1.75 | 1 |\n",
       "| 79 | 2008/10/29 | NA | 1.00 | 1.25 | 0 |\n",
       "| 80 | 2008/12/16 |  0 | 0.25 | 0.50 | 0 |\n",
       "| 81 | 2009/1/28  |  0 | 0.25 | 0.50 | 0 |\n",
       "\n"
      ],
      "text/plain": [
       "   date       rate_min rate_max rate_discount temporary\n",
       "76 2008/8/5   NA       1.00     2.25          0        \n",
       "77 2008/9/16  NA       2.00     2.25          0        \n",
       "78 2008/10/8  NA       1.50     1.75          1        \n",
       "79 2008/10/29 NA       1.00     1.25          0        \n",
       "80 2008/12/16  0       0.25     0.50          0        \n",
       "81 2009/1/28   0       0.25     0.50          0        "
      ]
     },
     "metadata": {},
     "output_type": "display_data"
    },
    {
     "name": "stdout",
     "output_type": "stream",
     "text": [
      "[1] \"DFF\"\n"
     ]
    },
    {
     "data": {
      "text/html": [
       "<table>\n",
       "<caption>A data.frame: 6 × 2</caption>\n",
       "<thead>\n",
       "\t<tr><th></th><th scope=col>DATE</th><th scope=col>DFF</th></tr>\n",
       "\t<tr><th></th><th scope=col>&lt;chr&gt;</th><th scope=col>&lt;dbl&gt;</th></tr>\n",
       "</thead>\n",
       "<tbody>\n",
       "\t<tr><th scope=row>3140</th><td>2008-08-05</td><td>1.97</td></tr>\n",
       "\t<tr><th scope=row>3141</th><td>2008-08-06</td><td>2.01</td></tr>\n",
       "\t<tr><th scope=row>3142</th><td>2008-08-07</td><td>1.96</td></tr>\n",
       "\t<tr><th scope=row>3143</th><td>2008-08-08</td><td>2.01</td></tr>\n",
       "\t<tr><th scope=row>3144</th><td>2008-08-09</td><td>2.01</td></tr>\n",
       "\t<tr><th scope=row>3145</th><td>2008-08-10</td><td>2.01</td></tr>\n",
       "</tbody>\n",
       "</table>\n"
      ],
      "text/latex": [
       "A data.frame: 6 × 2\n",
       "\\begin{tabular}{r|ll}\n",
       "  & DATE & DFF\\\\\n",
       "  & <chr> & <dbl>\\\\\n",
       "\\hline\n",
       "\t3140 & 2008-08-05 & 1.97\\\\\n",
       "\t3141 & 2008-08-06 & 2.01\\\\\n",
       "\t3142 & 2008-08-07 & 1.96\\\\\n",
       "\t3143 & 2008-08-08 & 2.01\\\\\n",
       "\t3144 & 2008-08-09 & 2.01\\\\\n",
       "\t3145 & 2008-08-10 & 2.01\\\\\n",
       "\\end{tabular}\n"
      ],
      "text/markdown": [
       "\n",
       "A data.frame: 6 × 2\n",
       "\n",
       "| <!--/--> | DATE &lt;chr&gt; | DFF &lt;dbl&gt; |\n",
       "|---|---|---|\n",
       "| 3140 | 2008-08-05 | 1.97 |\n",
       "| 3141 | 2008-08-06 | 2.01 |\n",
       "| 3142 | 2008-08-07 | 1.96 |\n",
       "| 3143 | 2008-08-08 | 2.01 |\n",
       "| 3144 | 2008-08-09 | 2.01 |\n",
       "| 3145 | 2008-08-10 | 2.01 |\n",
       "\n"
      ],
      "text/plain": [
       "     DATE       DFF \n",
       "3140 2008-08-05 1.97\n",
       "3141 2008-08-06 2.01\n",
       "3142 2008-08-07 1.96\n",
       "3143 2008-08-08 2.01\n",
       "3144 2008-08-09 2.01\n",
       "3145 2008-08-10 2.01"
      ]
     },
     "metadata": {},
     "output_type": "display_data"
    },
    {
     "name": "stdout",
     "output_type": "stream",
     "text": [
      "[1] \"DTB6\"\n"
     ]
    },
    {
     "data": {
      "text/html": [
       "<table>\n",
       "<caption>A data.frame: 6 × 2</caption>\n",
       "<thead>\n",
       "\t<tr><th></th><th scope=col>DATE</th><th scope=col>DTB6</th></tr>\n",
       "\t<tr><th></th><th scope=col>&lt;chr&gt;</th><th scope=col>&lt;dbl&gt;</th></tr>\n",
       "</thead>\n",
       "<tbody>\n",
       "\t<tr><th scope=row>2242</th><td>2008-08-05</td><td>1.92</td></tr>\n",
       "\t<tr><th scope=row>2243</th><td>2008-08-06</td><td>1.87</td></tr>\n",
       "\t<tr><th scope=row>2244</th><td>2008-08-07</td><td>1.87</td></tr>\n",
       "\t<tr><th scope=row>2245</th><td>2008-08-08</td><td>1.90</td></tr>\n",
       "\t<tr><th scope=row>2246</th><td>2008-08-11</td><td>2.00</td></tr>\n",
       "\t<tr><th scope=row>2247</th><td>2008-08-12</td><td>2.00</td></tr>\n",
       "</tbody>\n",
       "</table>\n"
      ],
      "text/latex": [
       "A data.frame: 6 × 2\n",
       "\\begin{tabular}{r|ll}\n",
       "  & DATE & DTB6\\\\\n",
       "  & <chr> & <dbl>\\\\\n",
       "\\hline\n",
       "\t2242 & 2008-08-05 & 1.92\\\\\n",
       "\t2243 & 2008-08-06 & 1.87\\\\\n",
       "\t2244 & 2008-08-07 & 1.87\\\\\n",
       "\t2245 & 2008-08-08 & 1.90\\\\\n",
       "\t2246 & 2008-08-11 & 2.00\\\\\n",
       "\t2247 & 2008-08-12 & 2.00\\\\\n",
       "\\end{tabular}\n"
      ],
      "text/markdown": [
       "\n",
       "A data.frame: 6 × 2\n",
       "\n",
       "| <!--/--> | DATE &lt;chr&gt; | DTB6 &lt;dbl&gt; |\n",
       "|---|---|---|\n",
       "| 2242 | 2008-08-05 | 1.92 |\n",
       "| 2243 | 2008-08-06 | 1.87 |\n",
       "| 2244 | 2008-08-07 | 1.87 |\n",
       "| 2245 | 2008-08-08 | 1.90 |\n",
       "| 2246 | 2008-08-11 | 2.00 |\n",
       "| 2247 | 2008-08-12 | 2.00 |\n",
       "\n"
      ],
      "text/plain": [
       "     DATE       DTB6\n",
       "2242 2008-08-05 1.92\n",
       "2243 2008-08-06 1.87\n",
       "2244 2008-08-07 1.87\n",
       "2245 2008-08-08 1.90\n",
       "2246 2008-08-11 2.00\n",
       "2247 2008-08-12 2.00"
      ]
     },
     "metadata": {},
     "output_type": "display_data"
    }
   ],
   "source": [
    "#Target,DFF,DTB6のデータセットの編集\n",
    "\n",
    "#開始日と終了日を指定\n",
    "start_target <- '2009/12/16' #開始日：形式'2010/1/1'\n",
    "end_target <- '2020/9/16' #終了日：形式'2010/1/1'\n",
    "start <- '2009-12-16' #開始日：形式'2010-01-01'\n",
    "end <- '2020-09-16' #終了日：形式'2010-01-01'\n",
    "\n",
    "#Target\n",
    "name <- 'Target'\n",
    "df <- read.csv(paste('dataset/original/',name,'.csv',sep=''))\n",
    "start_date <- which(df$date == start_target) #開始日を指定\n",
    "end_date <- which(df$date == end_target) #終了日を指定\n",
    "target <- df[start_date:end_date,]\n",
    "print(name);head(target)\n",
    "\n",
    "#DFF\n",
    "name <- 'DFF'\n",
    "df <- read.csv(paste('dataset/original/',name,'.csv',sep=''))\n",
    "start_date <- which(df$DATE == start) #開始日を指定\n",
    "end_date <- which(df$DATE == end) #終了日を指定\n",
    "effective <- df[start_date:end_date,]\n",
    "print(name);head(effective)\n",
    "\n",
    "#DTB6\n",
    "name <- 'DTB6'\n",
    "df <- read.csv(paste('dataset/original/',name,'.csv',sep=''))\n",
    "start_date <- which(df$DATE == start) #開始日を指定\n",
    "end_date <- which(df$DATE == end) #終了日を指定\n",
    "tb6m <- df[start_date:end_date,]\n",
    "print(name);head(tb6m)"
   ]
  },
  {
   "cell_type": "code",
   "execution_count": 47,
   "metadata": {},
   "outputs": [],
   "source": [
    "#Targetデータセット(日足)を作成\n",
    "#effectiveのデータセットを使用してtargetデータセット(日足)を作成\n",
    "date1<-effective[,1] \n",
    "target0<-target[which(target[,5]==0),] #予定されたFOMC日程を抽出\n",
    "date2<-target0[,1]\n",
    "\n",
    "#ミーティング日程のindex番号ベクトルを作成\n",
    "meeting<-vector(\"numeric\",length(date2))\n",
    "for(i in 1:(length(date2))){\n",
    "  tmpi<-which(as.Date(date1)==as.Date(date2[i])) #ベクトル番号を取得\n",
    "  meeting[i]<-tmpi\n",
    "}\n",
    "\n",
    "#Targetデータセット(日足)を作成\n",
    "target1<-effective\n",
    "k<-1\n",
    "for(i in 2:nrow(target)){\n",
    "  target1[k:(which(as.Date(effective[,1])==as.Date(target[i,1]))-1),2]<-rep(target[i-1,3],which(as.Date(effective[,1])==as.Date(target[i,1]))-k)\n",
    "  k<-which(as.Date(effective[,1])==as.Date(target[i,1]))\n",
    "}\n",
    "\n",
    "#データのサイズを統一化\n",
    "target2 <- subset(target1,as.Date(target1[,1]) %in%　as.Date(tb6m[,1]))\n",
    "effective2 <- subset(effective,as.Date(effective[,1]) %in%　as.Date(tb6m[,1]))\n",
    "tb6m2 <- subset(tb6m,as.Date(tb6m[,1]) %in%　as.Date(effective[,1]))"
   ]
  },
  {
   "cell_type": "code",
   "execution_count": 48,
   "metadata": {},
   "outputs": [
    {
     "data": {
      "image/png": "[encoded data removed]",
      "text/plain": [
       "plot without title"
      ]
     },
     "metadata": {
      "image/png": {
       "height": 420,
       "width": 420
      }
     },
     "output_type": "display_data"
    }
   ],
   "source": [
    "#データのプロット\n",
    "plot(target2[,2],ylim=c(0,3),t=\"l\",xlab=\"\",ylab=\"\")\n",
    "par(new=T)\n",
    "plot(effective2[,2],ylim=c(0,3),col=\"red\",t=\"l\",xlab=\"\",ylab=\"\")\n",
    "par(new=T)\n",
    "plot(tb6m2[,2],ylim=c(0,3),col=\"blue\",t=\"l\",xlab=\"\",ylab=\"\")"
   ]
  },
  {
   "cell_type": "code",
   "execution_count": 37,
   "metadata": {},
   "outputs": [],
   "source": [
    "#対数収益率(実行金利,6カ月国債)\n",
    "delta<-log(as.numeric(effective2[,2])/as.numeric(tb6m2[,2]))"
   ]
  },
  {
   "cell_type": "code",
   "execution_count": 38,
   "metadata": {},
   "outputs": [],
   "source": [
    "# Petersen Function(2)\n",
    "lam<-10\n",
    "L1<-15\n",
    "nm<-length(meeting)\n",
    "theta<-vector(\"numeric\",nm-2)\n",
    "k <- 1\n",
    "for(i in 1:(nm-2)){\n",
    "  fomc<-as.Date(target0[i+1,1])\n",
    "  tmpi<-which(as.Date(effective2[,1])==fomc)\n",
    "  theta[k]<-sum(delta[(tmpi-L1):(tmpi-1)]*exp(-(L1:1)/lam))/sum(exp(-(L1:1)/lam))\n",
    "  k <- k + 1\n",
    "}"
   ]
  },
  {
   "cell_type": "code",
   "execution_count": 39,
   "metadata": {},
   "outputs": [
    {
     "data": {
      "image/png": "[encoded data removed]",
      "text/plain": [
       "plot without title"
      ]
     },
     "metadata": {
      "image/png": {
       "height": 420,
       "width": 420
      }
     },
     "output_type": "display_data"
    }
   ],
   "source": [
    "plot(theta)"
   ]
  },
  {
   "cell_type": "code",
   "execution_count": 40,
   "metadata": {},
   "outputs": [],
   "source": [
    "# Petersen Function(4)\n",
    "files<-dir(\"dataset/sp100_2015\",rec=T)\n",
    "n<-length(files)\n",
    "nm<-length(meeting)\n",
    "\n",
    "v_ave<-matrix(0,n,21)\n",
    "v_ave2<-vector(\"numeric\",21)\n",
    "weight<-0\n",
    "for(stock in 1:n){\n",
    "  filename<-paste(\"dataset/sp100_2015/\",files[stock],sep=\"\")\n",
    "  tmp<-read.csv(filename)\n",
    "  tmp<-tmp[,2:8]\n",
    "  tmp<-subset(tmp, as.Date(tmp[,1]) %in%　as.Date(tb6m[,1]))\n",
    "  r<-matrix(0,nm-2,21)\n",
    "  r_ave<-vector(\"numeric\",nm-2)\n",
    "  Phi<-matrix(0,nm-2,21)\n",
    "  Phi_ave<-vector(\"numeric\",nm-2)\n",
    "  phi<-vector(\"numeric\",nm-2)\n",
    "  for(i in 1:(nm-2)){\n",
    "    fomc<-as.Date(target0[i+1,1])\n",
    "    tmpi<-which(as.Date(tmp[,1])==fomc)\n",
    "    r[i,] <- log(tmp[(tmpi-10):(tmpi+10),2]/tmp[(tmpi-10):(tmpi+10),3])\n",
    "    r_ave[i] <- mean(log(tmp[(tmpi-20):(tmpi+20),2]/tmp[(tmpi-20):(tmpi+20),3]))\n",
    "    r[i,]<-r[i,]/r_ave[i]\n",
    "    Phi[i,] <- tmp[(tmpi-10):(tmpi+10),6]\n",
    "    Phi_ave[i] <- mean(tmp[(tmpi-20):(tmpi+20),6])\n",
    "    phi[i]<-tmp[tmpi,6]/Phi_ave[i]\n",
    "  }\n",
    "  v_ave[stock,]<-as.vector(phi%*%r/sum(phi))\n",
    "  v_ave2<-v_ave2+as.vector(phi%*%r)\n",
    "  weight<-weight+sum(phi)\n",
    "}\n",
    "v_ave2<-v_ave2/weight"
   ]
  },
  {
   "cell_type": "code",
   "execution_count": null,
   "metadata": {},
   "outputs": [],
   "source": [
    "#欠損値の確認\n",
    "#取引量が0の期間が計算上の問題となっていた。\n",
    "print(filename)\n",
    "print('tmp');head(tmp);tail(tmp)\n",
    "print('r');head(r);tail(tmp)\n",
    "print('r_ave');head(r_ave);tail(r_ave)\n",
    "print('Phi');head(Phi);tail(Phi)\n",
    "print('phi');head(phi);tail(phi)\n",
    "print('fomc');fomc\n",
    "print('tmpi');tmpi"
   ]
  },
  {
   "cell_type": "code",
   "execution_count": null,
   "metadata": {},
   "outputs": [],
   "source": [
    "#欠損値の確認→EP\n",
    "#取引量が0の期間が計算上の問題となっていた。\n",
    "fail <- files[which(is.nan(v_ave[,1]) == TRUE)] #欠損値が生じている銘柄を特定\n",
    "print(fail)\n",
    "\n",
    "tmp <- read.csv(paste(\"dataset/sp100_2015/\",fail,sep=\"\")) #欠損値が生じている銘柄の読み込み\n",
    "tmp <- tmp[,2:8]\n",
    "head(tmp);tail(tmp)\n",
    "\n",
    "which(tmp[,6]==0) #取引量が0の期間を特定"
   ]
  },
  {
   "cell_type": "code",
   "execution_count": 41,
   "metadata": {},
   "outputs": [
    {
     "data": {
      "image/png": "[encoded data removed]",
      "text/plain": [
       "plot without title"
      ]
     },
     "metadata": {
      "image/png": {
       "height": 420,
       "width": 420
      }
     },
     "output_type": "display_data"
    }
   ],
   "source": [
    "#Fig.2 Average daily volatility trend defined in Eq.(4)\n",
    "plot(-10:10,v_ave2,t=\"l\")"
   ]
  },
  {
   "cell_type": "code",
   "execution_count": 42,
   "metadata": {},
   "outputs": [],
   "source": [
    "# Petersen Function(5)\n",
    "files<-dir(\"dataset/sp100_2015\",rec=T)\n",
    "n<-length(files)\n",
    "nm<-length(meeting)\n",
    "\n",
    "tm<-matrix(0,n,nm-2)\n",
    "tm2<-matrix(0,n,nm-2)\n",
    "v_ave<-vector(\"numeric\",nm-2)\n",
    "weight<-vector(\"numeric\",nm-2)\n",
    "r<-vector(\"numeric\",nm-2)\n",
    "r_ave<-vector(\"numeric\",nm-2)\n",
    "phi<-vector(\"numeric\",nm-2)\n",
    "for(stock in 1:n){\n",
    "  filename<-paste(\"dataset/sp100_2015/\",files[stock],sep=\"\")\n",
    "  tmp<-read.csv(filename)\n",
    "  for(i in 1:(nm-2)){\n",
    "    tmp<-read.csv(filename)\n",
    "    tmp<-tmp[,2:8]\n",
    "    tmp<-subset(tmp, as.Date(tmp[,1]) %in%　as.Date(tb6m[,1]))\n",
    "    fomc<-as.Date(target0[i+1,1])\n",
    "    tmpi<-which(as.Date(tmp[,1])==fomc)\n",
    "    r[i] <- log(tmp[tmpi,2]/tmp[tmpi,3])\n",
    "    r_ave[i] <- mean( log(tmp[(tmpi-20):(tmpi+20),2]/tmp[(tmpi-20):(tmpi+20),3]))\n",
    "    r[i]<-r[i]/r_ave[i]\n",
    "    phi[i]<-tmp[tmpi,6]/mean(tmp[,6])\n",
    "    tm[stock,i]<-r[i]\n",
    "    tm2[stock,i]<-phi[i]\n",
    "    v_ave[i]<-v_ave[i]+phi[i]*r[i]\n",
    "    weight[i]<-weight[i]+phi[i]\n",
    "  }\n",
    "}\n",
    "v_ave<-v_ave/weight"
   ]
  },
  {
   "cell_type": "code",
   "execution_count": 43,
   "metadata": {},
   "outputs": [
    {
     "data": {
      "image/png": "[encoded data removed]",
      "text/plain": [
       "plot without title"
      ]
     },
     "metadata": {
      "image/png": {
       "height": 420,
       "width": 420
      }
     },
     "output_type": "display_data"
    }
   ],
   "source": [
    "plot(v_ave)"
   ]
  },
  {
   "cell_type": "code",
   "execution_count": 44,
   "metadata": {},
   "outputs": [
    {
     "data": {
      "text/plain": [
       "\n",
       "Call:\n",
       "lm(formula = v_ave[v_ave < 3] ~ theta[v_ave < 3])\n",
       "\n",
       "Residuals:\n",
       "     Min       1Q   Median       3Q      Max \n",
       "-0.44268 -0.21655 -0.05897  0.09123  1.21620 \n",
       "\n",
       "Coefficients:\n",
       "                 Estimate Std. Error t value Pr(>|t|)    \n",
       "(Intercept)       1.20088    0.05243  22.905   <2e-16 ***\n",
       "theta[v_ave < 3]  0.27955    0.24976   1.119     0.27    \n",
       "---\n",
       "Signif. codes:  0 '***' 0.001 '**' 0.01 '*' 0.05 '.' 0.1 ' ' 1\n",
       "\n",
       "Residual standard error: 0.3299 on 38 degrees of freedom\n",
       "  (44 observations deleted due to missingness)\n",
       "Multiple R-squared:  0.03192,\tAdjusted R-squared:  0.00644 \n",
       "F-statistic: 1.253 on 1 and 38 DF,  p-value: 0.27\n"
      ]
     },
     "metadata": {},
     "output_type": "display_data"
    },
    {
     "data": {
      "image/png": "[encoded data removed]",
      "text/plain": [
       "plot without title"
      ]
     },
     "metadata": {
      "image/png": {
       "height": 420,
       "width": 420
      }
     },
     "output_type": "display_data"
    }
   ],
   "source": [
    "sign<-diff(target0[2:(nm),3])\n",
    "\n",
    "res<-lm(v_ave[v_ave<3]~theta[v_ave<3])\n",
    "summary(res)\n",
    "\n",
    "#ボラティリティ(目標金利DOWN)\n",
    "plot(theta[v_ave<3&sign<0],v_ave[v_ave<3&sign<0],\n",
    "     col=\"red\",pch=6,xlim=c(-0.6,1.0),ylim=c(0.7,1.6),\n",
    "     xlab=\"Theta\",ylab=\"Volatility\")\n",
    "par(new=T)\n",
    "\n",
    "#ボラティリティ(目標金利Equal)\n",
    "plot(theta[v_ave<3&sign==0],v_ave[v_ave<3&sign==0],\n",
    "     col=\"black\",pch=1,xlim=c(-0.6,1.0),ylim=c(0.7,1.6),\n",
    "     xlab=\"Theta\",ylab=\"Volatility\")\n",
    "par(new=T)\n",
    "\n",
    "#ボラティリティ(目標金利UP)\n",
    "plot(theta[v_ave<3&sign>0],v_ave[v_ave<3&sign>0],\n",
    "     col=\"green\",pch=2,xlim=c(-0.6,1.0),ylim=c(0.7,1.6),\n",
    "     xlab=\"Theta\",ylab=\"Volatility\")\n",
    "\n",
    "abline(res) #回帰直線のプロット"
   ]
  }
 ],
 "metadata": {
  "kernelspec": {
   "display_name": "R",
   "language": "R",
   "name": "ir"
  },
  "language_info": {
   "codemirror_mode": "r",
   "file_extension": ".r",
   "mimetype": "text/x-r-source",
   "name": "R",
   "pygments_lexer": "r",
   "version": "4.0.3"
  }
 },
 "nbformat": 4,
 "nbformat_minor": 4
}
